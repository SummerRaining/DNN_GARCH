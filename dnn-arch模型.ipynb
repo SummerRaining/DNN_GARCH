{
 "cells": [
  {
   "cell_type": "code",
   "execution_count": 73,
   "metadata": {},
   "outputs": [],
   "source": [
    "import keras"
   ]
  },
  {
   "cell_type": "markdown",
   "metadata": {},
   "source": [
    "建立改进的arch模型。"
   ]
  },
  {
   "cell_type": "markdown",
   "metadata": {},
   "source": [
    "$ x_t = \\epsilon_t * \\sigma_t $ <br>\n",
    "$ \\sigma^2_t = RNN(x_{t-1},h_{t-1}) $ <br>"
   ]
  },
  {
   "cell_type": "code",
   "execution_count": 74,
   "metadata": {},
   "outputs": [],
   "source": [
    "from keras.layers import LSTM,Input,Dropout,Dense,GRU,BatchNormalization,Add\n",
    "from keras import Model\n",
    "from keras import backend as K\n",
    "from keras.layers import Layer"
   ]
  },
  {
   "cell_type": "markdown",
   "metadata": {},
   "source": [
    "### 定义模型结构"
   ]
  },
  {
   "cell_type": "code",
   "execution_count": 114,
   "metadata": {},
   "outputs": [],
   "source": [
    "from keras import backend as K\n",
    "from keras import optimizers,initializers\n",
    "from keras.callbacks import ModelCheckpoint\n",
    "\n",
    "def MLE_loss(y_true, y_pred):\n",
    "    epsilon = 1e-6\n",
    "    y_pred = K.exp(y_pred)\n",
    "    return K.mean( 0.5*K.log(y_pred+epsilon)+y_true*y_true/(2.0*y_pred+epsilon))\n",
    "\n",
    "def build_model():    \n",
    "    inputs = Input(shape = (None,1))\n",
    "\n",
    "    x = LSTM(16,activation='tanh',return_sequences=True)(inputs)\n",
    "    x = Dropout(0.5)(x)\n",
    "    h = LSTM(16,activation='tanh',return_sequences=False)(x)\n",
    "\n",
    "    y = Dense(1,use_bias=True,activation='tanh')(h)\n",
    "    model = Model(input = inputs,output = y)\n",
    "\n",
    "    sgd = optimizers.SGD(lr=0.001, clipvalue=0.05)\n",
    "    model.compile(optimizer=sgd,loss=MLE_loss)\n",
    "    return model\n",
    "\n",
    "def build_new_model():\n",
    "    inputs = Input(shape = (12,))\n",
    "    var = Input(shape = (1,))\n",
    "#     y = Dense(12,use_bias = True,activation='tanh')(inputs)\n",
    "    h = Dense(1,use_bias = True,\n",
    "              kernel_initializer=initializers.random_normal(stddev=0.001))(inputs)\n",
    "    y = Add()([h,var])\n",
    "    model = Model(input = [inputs,var],output = y)\n",
    "\n",
    "    sgd = optimizers.SGD(lr=0.001, clipvalue=0.1)\n",
    "    model.compile(optimizer=sgd,loss=MLE_loss)\n",
    "    return model"
   ]
  },
  {
   "cell_type": "markdown",
   "metadata": {},
   "source": [
    "### 读取数据"
   ]
  },
  {
   "cell_type": "code",
   "execution_count": 115,
   "metadata": {},
   "outputs": [],
   "source": [
    "import pandas as pd\n",
    "import numpy as np\n",
    "data = open(\"/Users/Apple/Desktop/毕业的部分材料/fts-master/data/m-intc7308.txt\",'r').readlines()\n",
    "df = []\n",
    "columns = []\n",
    "for i,line in enumerate(data):\n",
    "    tmp = [x for x in line.strip().split(' ') if x != '']\n",
    "    if i == 0:\n",
    "        columns = tmp\n",
    "    else:\n",
    "        df.append(tmp)\n",
    "df = pd.DataFrame(df,columns=columns)"
   ]
  },
  {
   "cell_type": "markdown",
   "metadata": {},
   "source": [
    "### 做标准化"
   ]
  },
  {
   "cell_type": "code",
   "execution_count": 116,
   "metadata": {},
   "outputs": [
    {
     "name": "stdout",
     "output_type": "stream",
     "text": [
      "数据的均值为:0.0139\n"
     ]
    }
   ],
   "source": [
    "df['rtn'] = df['rtn'].map(lambda x: float(x))\n",
    "x = np.log(df['rtn'].values + 1)\n",
    "std_x = x - np.mean(x)\n",
    "print('数据的均值为:{:.4f}'.format(np.mean(x)))"
   ]
  },
  {
   "cell_type": "markdown",
   "metadata": {},
   "source": [
    "### 生成样本"
   ]
  },
  {
   "cell_type": "code",
   "execution_count": 117,
   "metadata": {},
   "outputs": [],
   "source": [
    "def generate_data(LENGTH):\n",
    "    sample_num = len(std_x)\n",
    "    x_data = []\n",
    "    y_data = []\n",
    "    x_var = []\n",
    "    for i in range(sample_num-LENGTH):\n",
    "        x_data.append(std_x[i:i+LENGTH])\n",
    "        x_var.append(np.var(std_x[i:i+LENGTH]))\n",
    "        y_data.append(std_x[i+LENGTH])\n",
    "        \n",
    "    #转换成array。\n",
    "    x_data,y_data,x_var = np.array(x_data),np.array(y_data),np.array(x_var).reshape(-1,1)\n",
    "    x_data = np.concatenate([x_data,x_data**2],axis = -1)\n",
    "    return x_data,y_data,x_var "
   ]
  },
  {
   "cell_type": "code",
   "execution_count": 118,
   "metadata": {},
   "outputs": [],
   "source": [
    "x_data,y_data,x_var = generate_data(6)"
   ]
  },
  {
   "cell_type": "markdown",
   "metadata": {},
   "source": [
    "### 训练数据"
   ]
  },
  {
   "cell_type": "code",
   "execution_count": 129,
   "metadata": {},
   "outputs": [
    {
     "name": "stderr",
     "output_type": "stream",
     "text": [
      "/Library/Frameworks/Python.framework/Versions/3.6/lib/python3.6/site-packages/ipykernel_launcher.py:31: UserWarning: Update your `Model` call to the Keras 2 API: `Model(inputs=[<tf.Tenso..., outputs=Tensor(\"ad...)`\n"
     ]
    }
   ],
   "source": [
    "import os\n",
    "keras.backend.clear_session()\n",
    "model = build_new_model()\n",
    "\n",
    "model_path = 'arch_model_3'\n",
    "if not os.path.exists(model_path):\n",
    "    os.makedirs(model_path)\n",
    "checkpoint_path = os.path.join(model_path,'epoch_{epoch:03d}loss{loss:.3f}.h5')\n",
    "checkpoint = ModelCheckpoint(checkpoint_path,monitor='loss',\n",
    "                             save_best_only=True,save_weights_only=False,\n",
    "                             verbose=1)"
   ]
  },
  {
   "cell_type": "code",
   "execution_count": 132,
   "metadata": {},
   "outputs": [
    {
     "name": "stdout",
     "output_type": "stream",
     "text": [
      "loss is -0.9309\n"
     ]
    }
   ],
   "source": [
    "compute_loss(y_data,model.predict([x_data,x_var]))"
   ]
  },
  {
   "cell_type": "code",
   "execution_count": 121,
   "metadata": {},
   "outputs": [
    {
     "name": "stdout",
     "output_type": "stream",
     "text": [
      "Epoch 1/1\n",
      "426/426 [==============================] - 0s 107us/step - loss: 0.0137\n",
      "\n",
      "Epoch 00001: loss improved from 0.01442 to 0.01373, saving model to arch_model_3/epoch_001loss0.014.h5\n"
     ]
    },
    {
     "data": {
      "text/plain": [
       "<keras.callbacks.History at 0x139f860b8>"
      ]
     },
     "execution_count": 121,
     "metadata": {},
     "output_type": "execute_result"
    }
   ],
   "source": [
    "model.fit([x_data,x_var],y_data,epochs=1,callbacks=[checkpoint],verbose=1)"
   ]
  },
  {
   "cell_type": "code",
   "execution_count": 122,
   "metadata": {},
   "outputs": [
    {
     "data": {
      "text/plain": [
       "(426, 12)"
      ]
     },
     "execution_count": 122,
     "metadata": {},
     "output_type": "execute_result"
    }
   ],
   "source": [
    "x_data.shape"
   ]
  },
  {
   "cell_type": "code",
   "execution_count": 123,
   "metadata": {},
   "outputs": [],
   "source": [
    "# model = keras.models.load_model('arch_model_1/epoch_100loss-0.768.h5',\n",
    "#                                 custom_objects={'MLE_loss': MLE_loss})"
   ]
  },
  {
   "cell_type": "code",
   "execution_count": 124,
   "metadata": {},
   "outputs": [],
   "source": [
    "# #把这次的模型保存下来。\n",
    "# model.save('best_model0.45.h5') "
   ]
  },
  {
   "cell_type": "code",
   "execution_count": 131,
   "metadata": {},
   "outputs": [
    {
     "name": "stdout",
     "output_type": "stream",
     "text": [
      "loss is -0.9299\n"
     ]
    }
   ],
   "source": [
    "# def compute_loss1(y_true,y_pred):\n",
    "#     epsilon = 0.0000001\n",
    "#     print(\"loss is {:.4f}\".format( np.mean(0.5*np.log(y_pred+epsilon)+y_true*y_true/(2.*y_pred+epsilon)) ))\n",
    "\n",
    "def compute_loss(y_true, y_pred):\n",
    "    epsilon = 1e-6\n",
    "    loss = np.mean( 0.5*np.log(y_pred+epsilon)+y_true*y_true/(2.0*y_pred+epsilon))\n",
    "    print(\"loss is {:.4f}\".format(loss))\n",
    "    \n",
    "compute_loss(y_data,x_var)"
   ]
  },
  {
   "cell_type": "markdown",
   "metadata": {},
   "source": [
    "### 模型检验"
   ]
  },
  {
   "cell_type": "code",
   "execution_count": 13,
   "metadata": {},
   "outputs": [],
   "source": [
    "predict_y = model.predict(x_data**2)\n",
    "std_red = y_data/np.sqrt(predict_y).reshape(-1,)"
   ]
  },
  {
   "cell_type": "code",
   "execution_count": 14,
   "metadata": {},
   "outputs": [
    {
     "data": {
      "text/plain": [
       "(array([ 9.03706158, 27.34674833, 43.85964414, 51.91976296, 57.42843455,\n",
       "        61.20534825, 67.65937975, 70.36293507, 73.34663844, 74.95281138]),\n",
       " array([2.64560535e-03, 1.15273386e-06, 1.61642458e-09, 1.43378721e-10,\n",
       "        4.12635494e-11, 2.56023480e-11, 4.38457216e-12, 4.16104563e-12,\n",
       "        3.34831879e-12, 4.85947829e-12]))"
      ]
     },
     "execution_count": 14,
     "metadata": {},
     "output_type": "execute_result"
    }
   ],
   "source": [
    "from statsmodels.stats.diagnostic import acorr_ljungbox\n",
    "acorr_ljungbox(y_data**2,10)"
   ]
  },
  {
   "cell_type": "code",
   "execution_count": 15,
   "metadata": {},
   "outputs": [
    {
     "data": {
      "text/plain": [
       "[<matplotlib.lines.Line2D at 0x1361da0b8>]"
      ]
     },
     "execution_count": 15,
     "metadata": {},
     "output_type": "execute_result"
    }
   ],
   "source": [
    "from matplotlib import pyplot as plt\n",
    "plt.plot(std_red**2)"
   ]
  },
  {
   "cell_type": "code",
   "execution_count": 16,
   "metadata": {},
   "outputs": [],
   "source": [
    "a0 = 0.01058810 \n",
    "a1 = 0.23714881\n",
    "a2 = 0.07274721\n",
    "a3 = 0.05308030\n",
    "arch_param = [a0,a1,a2,a3]"
   ]
  },
  {
   "cell_type": "code",
   "execution_count": 17,
   "metadata": {},
   "outputs": [
    {
     "name": "stdout",
     "output_type": "stream",
     "text": [
      "loss is -1.5933\n"
     ]
    }
   ],
   "source": [
    "def predict_arch(std_x,arch_param):\n",
    "    #使用标准序列std_x，和arch模型的参数，预测条件方差。\n",
    "    a0,a1,a2,a3 = arch_param\n",
    "    pred = a0+a1*std_x[2:-1]**2+a2*std_x[1:-2]**2+a3*std_x[0:-3]**2\n",
    "    return pred\n",
    "compute_loss(std_x[3:],predict_arch(std_x,arch_param))"
   ]
  },
  {
   "cell_type": "code",
   "execution_count": 18,
   "metadata": {},
   "outputs": [
    {
     "name": "stdout",
     "output_type": "stream",
     "text": [
      "Q(10)=7.311(0.696)\n"
     ]
    }
   ],
   "source": [
    "def box_test(std_x):\n",
    "    #对序列std_x使用arch模型预测条件方差，对其标准残差做Ljung-box检验。\n",
    "    sigma2 = predict_arch(std_x,arch_param)\n",
    "    res = std_x[3:]/np.sqrt(sigma2)\n",
    "    box_value,box_p = acorr_ljungbox(res**2,10)\n",
    "    print('Q(10)={:.3f}({:.3f})'.format(box_value[9],box_p[9]))\n",
    "box_test(std_x)"
   ]
  },
  {
   "cell_type": "code",
   "execution_count": 110,
   "metadata": {},
   "outputs": [
    {
     "name": "stdout",
     "output_type": "stream",
     "text": [
      "Q(10)=6.701(0.753)\n"
     ]
    }
   ],
   "source": [
    "box_test(y_data)"
   ]
  },
  {
   "cell_type": "markdown",
   "metadata": {},
   "source": [
    "### 使用过去的滞后项计算的方差作为条件方差"
   ]
  },
  {
   "cell_type": "code",
   "execution_count": 133,
   "metadata": {},
   "outputs": [],
   "source": [
    "pvar = []\n",
    "for i in range(y_data.shape[0]-6):\n",
    "    x = np.std(y_data[i:i+6])\n",
    "    pvar.append(x)"
   ]
  },
  {
   "cell_type": "code",
   "execution_count": 134,
   "metadata": {},
   "outputs": [],
   "source": [
    "pvar = np.array(pvar)\n",
    "red_pred = y_data[6:]/pvar"
   ]
  },
  {
   "cell_type": "code",
   "execution_count": 135,
   "metadata": {},
   "outputs": [
    {
     "data": {
      "text/plain": [
       "(array([0.05156867, 1.02603984, 1.85755485, 2.94300556, 4.33238078,\n",
       "        6.3472149 , 6.38192348, 7.65132582, 7.69814296, 7.76094747]),\n",
       " array([0.82035582, 0.59868486, 0.60249115, 0.56740815, 0.50261843,\n",
       "        0.38543915, 0.49592733, 0.46824879, 0.56482888, 0.6521743 ]))"
      ]
     },
     "execution_count": 135,
     "metadata": {},
     "output_type": "execute_result"
    }
   ],
   "source": [
    "acorr_ljungbox(red_pred**2,10)"
   ]
  }
 ],
 "metadata": {
  "kernelspec": {
   "display_name": "Python 3",
   "language": "python",
   "name": "python3"
  },
  "language_info": {
   "codemirror_mode": {
    "name": "ipython",
    "version": 3
   },
   "file_extension": ".py",
   "mimetype": "text/x-python",
   "name": "python",
   "nbconvert_exporter": "python",
   "pygments_lexer": "ipython3",
   "version": "3.7.1"
  }
 },
 "nbformat": 4,
 "nbformat_minor": 2
}
